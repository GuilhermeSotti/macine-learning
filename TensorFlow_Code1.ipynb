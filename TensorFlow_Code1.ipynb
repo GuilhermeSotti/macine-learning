{
  "nbformat": 4,
  "nbformat_minor": 0,
  "metadata": {
    "colab": {
      "name": "TensorFlow Code1",
      "provenance": [],
      "authorship_tag": "ABX9TyOOjTTASN474po1m51qcOuW",
      "include_colab_link": true
    },
    "kernelspec": {
      "name": "python3",
      "display_name": "Python 3"
    },
    "language_info": {
      "name": "python"
    }
  },
  "cells": [
    {
      "cell_type": "markdown",
      "metadata": {
        "id": "view-in-github",
        "colab_type": "text"
      },
      "source": [
        "<a href=\"https://colab.research.google.com/github/GuilhermeSotti/macine-learning/blob/main/TensorFlow_Code1.ipynb\" target=\"_parent\"><img src=\"https://colab.research.google.com/assets/colab-badge.svg\" alt=\"Open In Colab\"/></a>"
      ]
    },
    {
      "cell_type": "code",
      "metadata": {
        "colab": {
          "base_uri": "https://localhost:8080/"
        },
        "id": "9auwCrXcptbM",
        "outputId": "2c57d99f-37c4-4de6-b8a2-89a1a3476b72"
      },
      "source": [
        "import tensorflow as tf\n",
        "\n",
        "# // --------------------------------------------- // #\n",
        "\n",
        "tf.compat.v1.disable_eager_execution() # need to disable eager in TF2.x\n",
        "# Build a graph.\n",
        "a = tf.constant(5.0)\n",
        "b = tf.constant(6.0)\n",
        "c = tf.constant(2.0)\n",
        "d = a * b\n",
        "\n",
        "  # Launch the graph in a session.\n",
        "sess = tf.compat.v1.Session()\n",
        "\n",
        "# // --------------------------------------------- // #\n",
        "\n",
        "  # Evaluate the tensor `c`.\n",
        "print(sess.run(d)) # prints 30.0\n",
        "print(sess)\n",
        "\n",
        "frase = tf.constant('Olá, mundo')\n",
        "rodar = tf.compat.v1.Session(target='', graph=None, config=None).run(frase)\n",
        "print(rodar.decode('UTF-8'))\n",
        "print(frase)\n",
        "\n",
        "# // --------------------------------------------- // #\n",
        "e = tf.multiply(a, b)\n",
        "f = tf.add(b, c)\n",
        "g = tf.subtract(c, a)\n",
        "h = tf.divide(b, c)\n",
        "\n",
        "print(sess.run(e))\n",
        "print(sess.run(f))\n",
        "print(sess.run(g))\n",
        "print(sess.run(h))\n",
        "\n",
        "sess.close()\n"
      ],
      "execution_count": null,
      "outputs": [
        {
          "output_type": "stream",
          "text": [
            "30.0\n",
            "<tensorflow.python.client.session.Session object at 0x7f2f1cacfa10>\n",
            "Olá, mundo\n",
            "Tensor(\"Const_32:0\", shape=(), dtype=string)\n",
            "30.0\n",
            "8.0\n",
            "-3.0\n",
            "3.0\n"
          ],
          "name": "stdout"
        }
      ]
    },
    {
      "cell_type": "code",
      "metadata": {
        "colab": {
          "base_uri": "https://localhost:8080/"
        },
        "id": "yLlrfTOm7Q1d",
        "outputId": "ebf99c3c-58a7-4eaf-bced-9d5d3c2e7fd2"
      },
      "source": [
        "import numpy as np\n",
        "\n",
        "# // --------------------------------------------- // #\n",
        "\n",
        "a = tf.constant(2)\n",
        "b = tf.constant([0,1,1])\n",
        "c = tf.constant([[2,0,4], [3,5,7]])\n",
        "\n",
        "sess = tf.compat.v1.Session()\n",
        "\n",
        "print(b.shape)\n",
        "b = tf.expand_dims(b, 1)\n",
        "print(b.shape)\n",
        "\n",
        "print(sess.run(tf.matmul(c, b)))\n",
        "sess.close()\n",
        "\n",
        "npA = np.array(2)\n",
        "npB = np.array([3,1,5,8,6])\n",
        "npC = np.array([[2,0,4], [3,5,7]])"
      ],
      "execution_count": null,
      "outputs": [
        {
          "output_type": "stream",
          "text": [
            "(3,)\n",
            "(3, 1)\n",
            "[[ 4]\n",
            " [12]]\n"
          ],
          "name": "stdout"
        }
      ]
    },
    {
      "cell_type": "code",
      "metadata": {
        "id": "lI9cQztTVgF5"
      },
      "source": [
        "iValriable = tf.Variable(2)\n",
        "\n",
        "init = tf.compat.v1.global_variables_initializer()\n",
        "\n",
        "with tf.compat.v1.Session() as sess\n",
        "  sess.run(init)\n",
        "  rodar.sess.run(iValriable)\n",
        "\n",
        "print(rodar)"
      ],
      "execution_count": null,
      "outputs": []
    }
  ]
}