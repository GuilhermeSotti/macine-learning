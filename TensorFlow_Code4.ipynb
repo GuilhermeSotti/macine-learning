{
  "nbformat": 4,
  "nbformat_minor": 0,
  "metadata": {
    "colab": {
      "name": "TensorFlow Code4",
      "provenance": [],
      "authorship_tag": "ABX9TyM6sn0kZ4G9XDQbes9LoOfq",
      "include_colab_link": true
    },
    "kernelspec": {
      "name": "python3",
      "display_name": "Python 3"
    },
    "language_info": {
      "name": "python"
    }
  },
  "cells": [
    {
      "cell_type": "markdown",
      "metadata": {
        "id": "view-in-github",
        "colab_type": "text"
      },
      "source": [
        "<a href=\"https://colab.research.google.com/github/GuilhermeSotti/macine-learning/blob/main/TensorFlow_Code4.ipynb\" target=\"_parent\"><img src=\"https://colab.research.google.com/assets/colab-badge.svg\" alt=\"Open In Colab\"/></a>"
      ]
    },
    {
      "cell_type": "code",
      "metadata": {
        "colab": {
          "base_uri": "https://localhost:8080/",
          "height": 784
        },
        "id": "iPmZ5_G-op02",
        "outputId": "9ecd6ca7-5f2c-444a-848d-79490fa9cde2"
      },
      "source": [
        "from tensorflow.keras.preprocessing.image import ImageDataGenerator\n",
        "from tensorflow.keras.optimizers import RMSprop\n",
        "from tensorflow.keras.models import Sequential\n",
        "from keras.preprocessing.image import img_to_array\n",
        "from keras.preprocessing.image import load_img\n",
        "from tensorflow.keras import layers\n",
        "\n",
        "import numpy as np\n",
        "import os\n",
        "\n",
        "def main():\n",
        "\n",
        "  train_dataImg = ImageDataGenerator(rescale = 1./255 )\n",
        "  train_dir = './Images'\n",
        "  train_generator = train_dataImg.flow_from_directory(\n",
        "      train_dir,\n",
        "      target_size = (300, 300),\n",
        "      batch_size = 128,\n",
        "      class_mode = 'binary'\n",
        "  )\n",
        "\n",
        "train_horse_dir = os.path.join(train_dir + '/horses')\n",
        "train_human_dir = os.path.join(train_dir + '/humans')\n",
        "\n",
        "model = Sequential([\n",
        "      layers.Conv2D(16, (3, 3), activation = 'relu', input_shape = (300, 300, 3)),\n",
        "      layers.MaxPool2D(2, 2),\n",
        "\n",
        "      layers.Conv2D(32, (3, 3), activation = 'relu'),\n",
        "      layers.MaxPool2D(2, 2),\n",
        "\n",
        "      layers.Conv2D(64, (3, 3), activation = 'relu'),\n",
        "      layers.MaxPool2D(2, 2),\n",
        "\n",
        "      layers.Conv2D(64, (3, 3), activation = 'relu'),\n",
        "      layers.MaxPool2D(2, 2),\n",
        "\n",
        "      layers.Flatten(),\n",
        "      layers.Dense(512, activation = 'relu'),\n",
        "      layers.Dense(1, activation = 'sigmoid')\n",
        "  ])\n",
        "\n",
        "model.summary()\n",
        "model.compile(\n",
        "      loss = 'binary_crossentropy',\n",
        "      optimizer = RMSprop(lr = 0.0001),\n",
        "      metrics = ['accuracy']\n",
        "  )\n",
        "\n",
        "history = model.fit(\n",
        "      train_generator,\n",
        "      steps_per_epochs = 8,\n",
        "      epochs = 15,\n",
        "      validation_data = train_generator,\n",
        "      validation_steps = 8,\n",
        "      verbose = 1\n",
        ")\n",
        "\n",
        "path = train_dir + '/'\n",
        "files = [os.path.join(dp, f)\n",
        "    for dp, dn, filename in os.walk(path)\n",
        "    for f in filenames\n",
        "    if os.path.splitext(f)[1] == '.png']\n",
        "for fn in files:\n",
        "  print(fn)\n",
        "  img = load_img(fn, target_size = (300, 300))\n",
        "  x = img_to_array(img)\n",
        "  x = np.expand_dims(x, axis = 0)\n",
        "  images = np.vstack([x])\n",
        "  classes = model.predict(images, batch_size = 10)\n",
        "  print(classes[0])\n",
        "  if classes[0] > 0.5:\n",
        "    print(fn + \" is a human\")\n",
        "  else:\n",
        "    print(fn + \" is a horse\")\n",
        "\n",
        "if __name__ == '__main__':\n",
        "  main()"
      ],
      "execution_count": null,
      "outputs": [
        {
          "output_type": "stream",
          "text": [
            "Model: \"sequential\"\n",
            "_________________________________________________________________\n",
            "Layer (type)                 Output Shape              Param #   \n",
            "=================================================================\n",
            "conv2d (Conv2D)              (None, 298, 298, 16)      448       \n",
            "_________________________________________________________________\n",
            "max_pooling2d (MaxPooling2D) (None, 149, 149, 16)      0         \n",
            "_________________________________________________________________\n",
            "conv2d_1 (Conv2D)            (None, 147, 147, 32)      4640      \n",
            "_________________________________________________________________\n",
            "max_pooling2d_1 (MaxPooling2 (None, 73, 73, 32)        0         \n",
            "_________________________________________________________________\n",
            "conv2d_2 (Conv2D)            (None, 71, 71, 64)        18496     \n",
            "_________________________________________________________________\n",
            "max_pooling2d_2 (MaxPooling2 (None, 35, 35, 64)        0         \n",
            "_________________________________________________________________\n",
            "conv2d_3 (Conv2D)            (None, 33, 33, 64)        36928     \n",
            "_________________________________________________________________\n",
            "max_pooling2d_3 (MaxPooling2 (None, 16, 16, 64)        0         \n",
            "_________________________________________________________________\n",
            "flatten (Flatten)            (None, 16384)             0         \n",
            "_________________________________________________________________\n",
            "dense (Dense)                (None, 512)               8389120   \n",
            "_________________________________________________________________\n",
            "dense_1 (Dense)              (None, 1)                 513       \n",
            "=================================================================\n",
            "Total params: 8,450,145\n",
            "Trainable params: 8,450,145\n",
            "Non-trainable params: 0\n",
            "_________________________________________________________________\n"
          ],
          "name": "stdout"
        },
        {
          "output_type": "stream",
          "text": [
            "/usr/local/lib/python3.7/dist-packages/tensorflow/python/keras/optimizer_v2/optimizer_v2.py:375: UserWarning: The `lr` argument is deprecated, use `learning_rate` instead.\n",
            "  \"The `lr` argument is deprecated, use `learning_rate` instead.\")\n"
          ],
          "name": "stderr"
        },
        {
          "output_type": "error",
          "ename": "NameError",
          "evalue": "ignored",
          "traceback": [
            "\u001b[0;31m---------------------------------------------------------------------------\u001b[0m",
            "\u001b[0;31mNameError\u001b[0m                                 Traceback (most recent call last)",
            "\u001b[0;32m<ipython-input-4-f042d426d74f>\u001b[0m in \u001b[0;36m<module>\u001b[0;34m()\u001b[0m\n\u001b[1;32m     48\u001b[0m \u001b[0;34m\u001b[0m\u001b[0m\n\u001b[1;32m     49\u001b[0m history = model.fit(\n\u001b[0;32m---> 50\u001b[0;31m       \u001b[0mtrain_generator\u001b[0m\u001b[0;34m,\u001b[0m\u001b[0;34m\u001b[0m\u001b[0;34m\u001b[0m\u001b[0m\n\u001b[0m\u001b[1;32m     51\u001b[0m       \u001b[0msteps_per_epochs\u001b[0m \u001b[0;34m=\u001b[0m \u001b[0;36m8\u001b[0m\u001b[0;34m,\u001b[0m\u001b[0;34m\u001b[0m\u001b[0;34m\u001b[0m\u001b[0m\n\u001b[1;32m     52\u001b[0m       \u001b[0mepochs\u001b[0m \u001b[0;34m=\u001b[0m \u001b[0;36m15\u001b[0m\u001b[0;34m,\u001b[0m\u001b[0;34m\u001b[0m\u001b[0;34m\u001b[0m\u001b[0m\n",
            "\u001b[0;31mNameError\u001b[0m: name 'train_generator' is not defined"
          ]
        }
      ]
    }
  ]
}